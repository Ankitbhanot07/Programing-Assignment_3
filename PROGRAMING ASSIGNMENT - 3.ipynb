{
 "cells": [
  {
   "cell_type": "markdown",
   "id": "ecc9e327",
   "metadata": {},
   "source": [
    "1. Write a Python Program to Check if a Number is Positive, Negative or Zero?\n",
    "2. Write a Python Program to Check if a Number is Odd or Even?\n",
    "3. Write a Python Program to Check Leap Year?\n",
    "4. Write a Python Program to Check Prime Number?\n",
    "5. Write a Python Program to Print all Prime Numbers in an Interval of 1-10000?"
   ]
  },
  {
   "cell_type": "markdown",
   "id": "3e5c605e",
   "metadata": {},
   "source": [
    "Q1 : Write a Python Program to Check if a Number is Positive, Negative or Zero?\n",
    "    \n",
    "a = int(input(\"Enter a number : \"))\n",
    "\n",
    "if a>0 :\n",
    "    print(\"entered number is positive\")\n",
    "elif a==0 :\n",
    "    print(\"entered number is zero\")\n",
    "else :\n",
    "    print(\"entered number is negative\")\n",
    "  \n"
   ]
  },
  {
   "cell_type": "markdown",
   "id": "9daab2c7",
   "metadata": {},
   "source": [
    "Q2 :  Write a Python Program to Check if a Number is Odd or Even?\n",
    "    \n",
    "    \n",
    "a = int(input(\"enter a number :\"))\n",
    "if a%2==0:\n",
    "    print(\"entered number is even\")\n",
    "elif a%2!=0:\n",
    "    print(\"entered number is odd\")"
   ]
  },
  {
   "cell_type": "markdown",
   "id": "65b3d42c",
   "metadata": {},
   "source": [
    "Q3 : Write a Python Program to Check Leap Year?\n",
    "    \n",
    "year = int(input(\"Enter a year :\"))\n",
    "if (year%4==0) and (year%100!=0) :\n",
    "    print(\"{0} is a leap year\".format(year))\n",
    "else:\n",
    "    print(\"{0} is not a leap year\".format(year))"
   ]
  },
  {
   "cell_type": "markdown",
   "id": "86e5c3ad",
   "metadata": {},
   "source": [
    "Q4 :  Write a Python Program to Check Prime Number?\n",
    "    \n",
    "    \n",
    "num = int(input(\"enter a number :\"))\n",
    "if num>1:\n",
    "    for i in range(2,num):\n",
    "        if (num%i)==0:\n",
    "            print((num,\"is not a prime number\"))\n",
    "            break\n",
    "    else:\n",
    "        print(num,\"is a prime number\")\n",
    "else:\n",
    "    print(num,\"is not a prime number\")\n",
    "    \n",
    "    \n"
   ]
  },
  {
   "cell_type": "markdown",
   "id": "296232e9",
   "metadata": {},
   "source": [
    "Q5 :  Write a Python Program to Print all Prime Numbers in an Interval of 1-10000?\n",
    "    \n",
    "    \n",
    "LB = 0\n",
    "UB = 10000\n",
    "for i in range(1,10001):\n",
    "    if i>1 :\n",
    "        for a in range(2 ,i):\n",
    "            if (i%a)==0:\n",
    "                break\n",
    "        else:\n",
    "            print(i)"
   ]
  }
 ],
 "metadata": {
  "kernelspec": {
   "display_name": "Python 3 (ipykernel)",
   "language": "python",
   "name": "python3"
  },
  "language_info": {
   "codemirror_mode": {
    "name": "ipython",
    "version": 3
   },
   "file_extension": ".py",
   "mimetype": "text/x-python",
   "name": "python",
   "nbconvert_exporter": "python",
   "pygments_lexer": "ipython3",
   "version": "3.9.12"
  }
 },
 "nbformat": 4,
 "nbformat_minor": 5
}
